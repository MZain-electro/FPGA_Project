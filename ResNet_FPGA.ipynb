{
  "nbformat": 4,
  "nbformat_minor": 0,
  "metadata": {
    "colab": {
      "provenance": []
    },
    "kernelspec": {
      "name": "python3",
      "display_name": "Python 3"
    },
    "language_info": {
      "name": "python"
    }
  },
  "cells": [
    {
      "cell_type": "code",
      "execution_count": 9,
      "metadata": {
        "id": "PQE5ilKTo_DX",
        "colab": {
          "base_uri": "https://localhost:8080/"
        },
        "outputId": "c6b4c569-504f-4091-9369-991018cc481c"
      },
      "outputs": [
        {
          "output_type": "stream",
          "name": "stdout",
          "text": [
            "Drive already mounted at /content/drive; to attempt to forcibly remount, call drive.mount(\"/content/drive\", force_remount=True).\n"
          ]
        }
      ],
      "source": [
        "from google.colab import drive\n",
        "drive.mount('/content/drive')"
      ]
    },
    {
      "cell_type": "code",
      "source": [
        "!python /content/neural_conv.py \\\n",
        "  --model_path /content/drive/MyDrive/ResNet/model_best.pth.tar \\\n",
        "  --input_path /content/drive/MyDrive/ResNet/input_1.npy \\\n",
        "  --output_ref_path /content/drive/MyDrive/ResNet \\\n",
        "  --output_save_path /content/drive/MyDrive/ResNet/generated_output.npy"
      ],
      "metadata": {
        "colab": {
          "base_uri": "https://localhost:8080/"
        },
        "id": "ISW_BAfXtR3I",
        "outputId": "fd471f1d-e207-4baf-de02-a1a4f4648005"
      },
      "execution_count": 15,
      "outputs": [
        {
          "output_type": "stream",
          "name": "stdout",
          "text": [
            "Using device: cpu\n",
            "Output saved successfully at /content/drive/MyDrive/ResNet/generated_output.npy\n"
          ]
        }
      ]
    },
    {
      "cell_type": "code",
      "source": [],
      "metadata": {
        "id": "DNUibgtAu6cI"
      },
      "execution_count": null,
      "outputs": []
    }
  ]
}