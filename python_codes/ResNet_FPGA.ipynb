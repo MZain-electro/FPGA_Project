{
  "nbformat": 4,
  "nbformat_minor": 0,
  "metadata": {
    "colab": {
      "provenance": []
    },
    "kernelspec": {
      "name": "python3",
      "display_name": "Python 3"
    },
    "language_info": {
      "name": "python"
    }
  },
  "cells": [
    {
      "cell_type": "code",
      "execution_count": 1,
      "metadata": {
        "id": "PQE5ilKTo_DX",
        "colab": {
          "base_uri": "https://localhost:8080/"
        },
        "outputId": "7dfeab71-a85f-4fb6-9ecf-d427c8cc1144"
      },
      "outputs": [
        {
          "output_type": "stream",
          "name": "stdout",
          "text": [
            "Mounted at /content/drive\n"
          ]
        }
      ],
      "source": [
        "from google.colab import drive\n",
        "drive.mount('/content/drive')"
      ]
    },
    {
      "cell_type": "code",
      "source": [
        "!python /content/neural_conv.py \\\n",
        "  --model_path /content/drive/MyDrive/ResNet/model_best.pth.tar \\\n",
        "  --input_path /content/drive/MyDrive/ResNet/input_1.npy \\\n",
        "  --output_ref_path /content/drive/MyDrive/ResNet/output_1.npy \\\n",
        "  --output_save_path /content/drive/MyDrive/ResNet"
      ],
      "metadata": {
        "colab": {
          "base_uri": "https://localhost:8080/"
        },
        "id": "ISW_BAfXtR3I",
        "outputId": "5d0a2627-362e-4911-d68f-0b5b96b72580"
      },
      "execution_count": 6,
      "outputs": [
        {
          "output_type": "stream",
          "name": "stdout",
          "text": [
            "Using device: cpu\n",
            "Downsample is  None\n",
            "Downsample is  None\n",
            "Downsample is  Sequential(\n",
            "  (0): Conv2d(64, 128, kernel_size=(1, 1), stride=(2, 2), bias=False)\n",
            "  (1): BatchNorm2d(128, eps=1e-05, momentum=0.1, affine=True, track_running_stats=True)\n",
            ")\n",
            "Downsample is  None\n",
            "Downsample is  Sequential(\n",
            "  (0): Conv2d(128, 256, kernel_size=(1, 1), stride=(2, 2), bias=False)\n",
            "  (1): BatchNorm2d(256, eps=1e-05, momentum=0.1, affine=True, track_running_stats=True)\n",
            ")\n",
            "Downsample is  None\n",
            "Downsample is  Sequential(\n",
            "  (0): Conv2d(256, 512, kernel_size=(1, 1), stride=(2, 2), bias=False)\n",
            "  (1): BatchNorm2d(512, eps=1e-05, momentum=0.1, affine=True, track_running_stats=True)\n",
            ")\n",
            "Downsample is  None\n",
            "Dilation for Layer 4 is  False\n",
            "Number of blocks is  2\n",
            "Characteristics of Layer 4: Last_Layer(\n",
            "  (layer4): Sequential(\n",
            "    (0): BasicBlock(\n",
            "      (conv1): Conv2d(256, 512, kernel_size=(3, 3), stride=(2, 2), padding=(1, 1), bias=False)\n",
            "      (bn1): BatchNorm2d(512, eps=1e-05, momentum=0.1, affine=True, track_running_stats=True)\n",
            "      (relu): ReLU(inplace=True)\n",
            "      (conv2): Conv2d(512, 512, kernel_size=(3, 3), stride=(1, 1), padding=(1, 1), bias=False)\n",
            "      (bn2): BatchNorm2d(512, eps=1e-05, momentum=0.1, affine=True, track_running_stats=True)\n",
            "      (downsample): Sequential(\n",
            "        (0): Conv2d(256, 512, kernel_size=(1, 1), stride=(2, 2), bias=False)\n",
            "        (1): BatchNorm2d(512, eps=1e-05, momentum=0.1, affine=True, track_running_stats=True)\n",
            "      )\n",
            "    )\n",
            "    (1): BasicBlock(\n",
            "      (conv1): Conv2d(512, 512, kernel_size=(3, 3), stride=(1, 1), padding=(1, 1), bias=False)\n",
            "      (bn1): BatchNorm2d(512, eps=1e-05, momentum=0.1, affine=True, track_running_stats=True)\n",
            "      (relu): ReLU(inplace=True)\n",
            "      (conv2): Conv2d(512, 512, kernel_size=(3, 3), stride=(1, 1), padding=(1, 1), bias=False)\n",
            "      (bn2): BatchNorm2d(512, eps=1e-05, momentum=0.1, affine=True, track_running_stats=True)\n",
            "    )\n",
            "  )\n",
            "  (avgpool): AdaptiveAvgPool2d(output_size=(1, 1))\n",
            "  (fc): Linear(in_features=512, out_features=512, bias=True)\n",
            "  (tanh): Tanh()\n",
            ")\n",
            "Shape of the output from Layer 3 is  (256, 256, 40, 40)\n",
            "Size of ouput after batch norm 2:  torch.Size([256, 512, 20, 20])\n",
            "Downsample is not None\n",
            "Size of x :  torch.Size([256, 512, 20, 20])\n",
            "Size of ouput after batch norm 2:  torch.Size([256, 512, 20, 20])\n",
            "Downsample is None\n",
            "Size of x :  torch.Size([256, 512, 20, 20])\n",
            "After Layer 4:  torch.Size([256, 512, 20, 20])\n",
            "After Average Pool:  torch.Size([256, 512, 1, 1])\n",
            "After Flatten:  torch.Size([256, 512])\n",
            "After Fully Connected:  torch.Size([256, 512])\n",
            "After Tanh:  torch.Size([256, 512])\n",
            "Output saved successfully at /content/drive/MyDrive/ResNet\n",
            "the MSE loss is: 0.5346553\n",
            "Description of layer 4 first block:  BasicBlock(\n",
            "  (conv1): Conv2d(256, 512, kernel_size=(3, 3), stride=(2, 2), padding=(1, 1), bias=False)\n",
            "  (bn1): BatchNorm2d(512, eps=1e-05, momentum=0.1, affine=True, track_running_stats=True)\n",
            "  (relu): ReLU(inplace=True)\n",
            "  (conv2): Conv2d(512, 512, kernel_size=(3, 3), stride=(1, 1), padding=(1, 1), bias=False)\n",
            "  (bn2): BatchNorm2d(512, eps=1e-05, momentum=0.1, affine=True, track_running_stats=True)\n",
            "  (downsample): Sequential(\n",
            "    (0): Conv2d(256, 512, kernel_size=(1, 1), stride=(2, 2), bias=False)\n",
            "    (1): BatchNorm2d(512, eps=1e-05, momentum=0.1, affine=True, track_running_stats=True)\n",
            "  )\n",
            ")\n",
            "Shape of the weights of first conv2d of layer 4:  torch.Size([512, 256, 3, 3])\n",
            "Shape of the weights of second conv2d of layer 4:  torch.Size([512, 512, 3, 3])\n",
            "Shape of the weights of downsample conv2d of layer 4:  torch.Size([512, 256, 1, 1])\n",
            "Shape of the weights of first conv2d of layer 4:  torch.Size([512, 512, 3, 3])\n",
            "Shape of the weights of second conv2d of layer 4:  torch.Size([512, 512, 3, 3])\n"
          ]
        }
      ]
    },
    {
      "cell_type": "code",
      "source": [
        "!python /content/convert_between_npy_bin.py \\\n",
        "  --mode \"npy_to_bin\" \\\n",
        "  --input /content/drive/MyDrive/ResNet/layer4_block1_downsample_weights.npy \\\n",
        "  --output /content/drive/MyDrive/ResNet/layer4_block1_downsample_weights.bin"
      ],
      "metadata": {
        "id": "DNUibgtAu6cI",
        "colab": {
          "base_uri": "https://localhost:8080/"
        },
        "outputId": "af2d95f5-8eb8-460a-c7d1-6caa6d344da5"
      },
      "execution_count": 20,
      "outputs": [
        {
          "output_type": "stream",
          "name": "stdout",
          "text": [
            "Successfully converted '/content/drive/MyDrive/ResNet/layer4_block1_downsample_weights.npy' to '/content/drive/MyDrive/ResNet/layer4_block1_downsample_weights.bin' as float32.\n"
          ]
        }
      ]
    }
  ]
}